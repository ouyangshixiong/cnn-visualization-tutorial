{
 "cells": [
  {
   "cell_type": "markdown",
   "metadata": {},
   "source": [
    "# CNN可视化基础设置\n",
    "\n",
    "## 学习目标\n",
    "\n",
    "1. [ ] 安装必要的库\n",
    "2. [ ] 准备可视化环境\n",
    "3. [ ] 加载示例图片\n",
    "4. [ ] 验证可视化工具正常工作"
   ]
  },
  {
   "cell_type": "markdown",
   "metadata": {},
   "source": [
    "## 步骤1：安装依赖"
   ]
  },
  {
   "cell_type": "code",
   "execution_count": null,
   "metadata": {},
   "outputs": [],
   "source": [
    "# 安装必要的库\n",
    "!pip install torch torchvision paddlepaddle matplotlib seaborn opencv-python plotly"
   ]
  },
  {
   "cell_type": "markdown",
   "metadata": {},
   "source": [
    "## 步骤2：导入必要的库"
   ]
  },
  {
   "cell_type": "code",
   "execution_count": null,
   "metadata": {},
   "outputs": [],
   "source": [
    "import torch\n",
    "import torch.nn as nn\n",
    "import paddle\n",
    "import paddle.nn as pnn\n",
    "import numpy as np\n",
    "import matplotlib.pyplot as plt\n",
    "from PIL import Image\n",
    "import cv2\n",
    "\n",
    "# 设置中文字体\n",
    "plt.rcParams['font.sans-serif'] = ['SimHei']\n",
    "plt.rcParams['axes.unicode_minus'] = False"
   ]
  },
  {
   "cell_type": "markdown",
   "metadata": {},
   "source": [
    "## 步骤3：创建示例数据"
   ]
  },
  {
   "cell_type": "code",
   "execution_count": null,
   "metadata": {},
   "outputs": [],
   "source": [
    "# 创建模拟的猫狗图片\n",
    "def create_sample_images():\n",
    "    """创建示例图片用于可视化"""\n",
    "    # 创建猫图片 (模拟)\n",
    "    cat_img = np.random.randint(100, 200, (224, 224, 3), dtype=np.uint8)\n",
    "    cat_img[50:150, 50:150] = [255, 200, 150]  # 模拟猫脸区域\n",
    "    \n",
    "    # 创建狗图片 (模拟)\n",
    "    dog_img = np.random.randint(50, 150, (224, 224, 3), dtype=np.uint8)\n",
    "    dog_img[60:160, 60:160] = [150, 200, 255]  # 模拟狗脸区域\n",
    "    \n",
    "    return cat_img, dog_img\n",
    "\n",
    "cat_img, dog_img = create_sample_images()\n",
    "\n",
    "# 显示示例图片\n",
    "fig, (ax1, ax2) = plt.subplots(1, 2, figsize=(10, 5))\n",
    "ax1.imshow(cat_img)\n",
    "ax1.set_title('示例猫图片')\n",
    "ax1.axis('off')\n",
    "\n",
    "ax2.imshow(dog_img)\n",
    "ax2.set_title('示例狗图片')\n",
    "ax2.axis('off')\n",
    "\n",
    "plt.tight_layout()\n",
    "plt.show()"
   ]
  },
  {
   "cell_type": "markdown",
   "metadata": {},
   "source": [
    "## 步骤4：定义简单的CNN模型"
   ]
  },
  {
   "cell_type": "code",
   "execution_count": null,
   "metadata": {},
   "outputs": [],
   "source": [
    "class SimpleCNN(nn.Module):\n",
    "    def __init__(self, num_classes=2):\n",
    "        super(SimpleCNN, self).__init__()\n",
    "        \n",
    "        # 卷积层\n",
    "        self.conv1 = nn.Conv2d(3, 16, 3, padding=1)\n",
    "        self.conv2 = nn.Conv2d(16, 32, 3, padding=1)\n",
    "        self.conv3 = nn.Conv2d(32, 64, 3, padding=1)\n",
    "        \n",
    "        # 池化层\n",
    "        self.pool = nn.MaxPool2d(2, 2)\n",
    "        \n",
    "        # 全连接层\n",
    "        self.fc1 = nn.Linear(64 * 28 * 28, 256)\n",
    "        self.fc2 = nn.Linear(256, num_classes)\n",
    "        \n",
    "        # 激活函数\n",
    "        self.relu = nn.ReLU()\n",
    "        self.dropout = nn.Dropout(0.5)\n",
    "    \n",
    "    def forward(self, x):\n",
    "        x = self.pool(self.relu(self.conv1(x)))  # 224 -> 112\n",
    "        x = self.pool(self.relu(self.conv2(x)))  # 112 -> 56\n",
    "        x = self.pool(self.relu(self.conv3(x)))  # 56 -> 28\n",
    "        x = x.view(x.size(0), -1)\n",
    "        x = self.dropout(self.relu(self.fc1(x)))\n",
    "        x = self.fc2(x)\n",
    "        return x\n",
    "\n",
    "# 创建模型实例\n",
    "pytorch_model = SimpleCNN()\n",
    "print('PyTorch模型结构:')\n",
    "print(pytorch_model)"
   ]
  },
  {
   "cell_type": "markdown",
   "metadata": {},
   "source": [
    "## 步骤5：转换图片为模型输入格式"
   ]
  },
  {
   "cell_type": "code",
   "execution_count": null,
   "metadata": {},
   "outputs": [],
   "source": [
    "# 定义转换\n",
    "transform = transforms.Compose([\n",
    "    transforms.Resize((224, 224)),\n",
    "    transforms.ToTensor(),\n",
    "    transforms.Normalize([0.485, 0.456, 0.406], [0.229, 0.224, 0.225])\n",
    "])\n",
    "\n",
    "# 转换图片\n",
    "def prepare_image(image):\n",
    "    """准备图片用于模型输入"""\n",
    "    pil_img = Image.fromarray(image)\n",
    "    tensor = transform(pil_img).unsqueeze(0)\n",
    "    return tensor\n",
    "\n",
    "cat_tensor = prepare_image(cat_img)\n",
    "dog_tensor = prepare_image(dog_img)\n",
    "\n",
    "print(f'猫图片张量形状: {cat_tensor.shape}')\n",
    "print(f'狗图片张量形状: {dog_tensor.shape}')"
   ]
  },
  {
   "cell_type": "markdown",
   "metadata": {},
   "source": [
    "## 步骤6：验证可视化工具"
   ]
  },
  {
   "cell_type": "code",
   "execution_count": null,
   "metadata": {},
   "outputs": [],
   "source": [
    "# 导入可视化工具\n",
    "import os\n",
    "import sys\n",
    "sys.path.append('..')\n",
    "\n",
    "from visualization.pytorch.layer_visualizer import CNNLayerVisualizer\n",
    "\n",
    "# 创建可视化器\n",
    "visualizer = CNNLayerVisualizer(pytorch_model)\n",
    "\n",
    "# 获取所有层名称\n",
    "layer_names = visualizer.get_layer_names()\n",
    "print('可用的层:', layer_names)\n",
    "\n",
    "# 可视化第一个卷积层的滤波器\n",
    "if layer_names:\n",
    "    fig = visualizer.visualize_conv_filters(layer_names[0], max_filters=8)\n",
    "    plt.show()"
   ]
  },
  {
   "cell_type": "markdown",
   "metadata": {},
   "source": [
    "## 步骤7：可视化特征图"
   ]
  },
  {
   "cell_type": "code",
   "execution_count": null,
   "metadata": {},
   "outputs": [],
   "source": [
    "# 可视化特征图\n",
    "with torch.no_grad():\n",
    "    for layer_name in layer_names[:2]:  # 前两层\n",
    "        fig = visualizer.visualize_feature_maps(cat_tensor, layer_name, max_maps=8)\n",
    "        plt.suptitle(f'猫图片 - {layer_name} 特征图')\n",
    "        plt.show()\n",
    "        \n",
    "        fig = visualizer.visualize_feature_maps(dog_tensor, layer_name, max_maps=8)\n",
    "        plt.suptitle(f'狗图片 - {layer_name} 特征图')\n",
    "        plt.show()"
   ]
  },
  {
   "cell_type": "markdown",
   "metadata": {},
   "source": [
    "## 总结\n",
    "\n",
    "恭喜！你已经成功设置了CNN可视化环境：\n",
    "\n",
    "✅ 安装了所有必要的库\n",
    "✅ 创建了示例数据\n",
    "✅ 定义了CNN模型\n",
    "✅ 验证了可视化工具\n",
    "✅ 成功可视化了特征图\n",
    "\n",
    "接下来可以继续学习：\n",
    "\n",
    "1. [codelab-02-convolution-viz.ipynb](codelab-02-convolution-viz.ipynb) - 卷积操作可视化\n",
    "2. [codelab-03-feature-maps.ipynb](codelab-03-feature-maps.ipynb) - 深入理解特征图\n",
    "3. [codelab-04-cam-analysis.ipynb](codelab-04-cam-analysis.ipynb) - 类激活图分析"
   ]
  }
 ],
 "metadata": {
  "kernelspec": {
   "display_name": "Python 3",
   "language": "python",
   "name": "python3"
  },
  "language_info": {
   "codemirror_mode": {
    "name": "ipython",
    "version": 3
   },
   "file_extension": ".py",
   "mimetype": "text/x-python",
   "name": "python",
   "nbconvert_exporter": "python",
   "pygments_lexer": "ipython3",
   "version": "3.8.5"
  }
 },
 "nbformat": 4,
 "nbformat_minor": 4
}